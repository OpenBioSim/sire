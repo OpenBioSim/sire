{
 "cells": [
  {
   "cell_type": "markdown",
   "id": "653dd6e1-f537-4a7c-b708-0652f3aea7c2",
   "metadata": {},
   "source": [
    "# Sire-EMLE\n",
    "\n",
    "The `sire` QM/MM implementation takes advantage of the new means of writing [platform independent force calculations](http://docs.openmm.org/development/developerguide/09_customcppforceimpl.html) introduced in [OpenMM](http://openmm.org/) 8.1. This allows us to interface with any external package to modify atomic forces within the OpenMM context. While OpenMM already directly supports ML/MM simulations via the [OpenMM-ML](https://github.com/openmm/openmm-ml) package, it is currently limited to specific backends and only supports mechanical embedding. The `sire` QM/MM implementation performs the QM calculation using the [emle-engine](https://github.com/chemle/emle-engine) package, which has support for a wide range of backends and embedding models, importantly providing a simple and efficient ML model for electrostatic embedding.\n",
    "\n",
    "Here are some useful links:\n",
    "\n",
    "* [Paper](https://doi.org/10.26434/chemrxiv-2022-rknwt-v3) on the original EMLE methodology.\n",
    "* [emle-engine](https://github.com/chemle/emle-engine) GitHub repository.\n",
    "* [Preprint](https://doi.org/10.26434/chemrxiv-2023-6rng3-v2) on alanine-dipeptide conformational landscape study.\n",
    "* Sire-EMLE [tutorials](https://github.com/OpenBioSim/sire/blob/feature_emle/doc/source/tutorial/partXX).\n",
    "\n",
    "In order to use QM/MM functionality within `sire` you will first need to create the following `conda` environment:\n",
    "\n",
    "```bash\n",
    "$ git clone https://github.com/chemle/emle-engine.git\n",
    "$ cd emle-engine\n",
    "$ conda env create -f environment_sire.yaml\n",
    "$ conda activate emle-sire\n",
    "$ pip install -e .\n",
    "```\n",
    "\n",
    "In this tutorial, we will perform a short ML/MM simulation of alanine dipeptide in water. First, let us load the molecular system:"
   ]
  },
  {
   "cell_type": "code",
   "execution_count": null,
   "id": "ab513df4-dce9-4650-96d2-8b64ffd25c17",
   "metadata": {},
   "outputs": [],
   "source": [
    "import sire as sr\n",
    "mols = sr.load_test_files(\"ala.crd\", \"ala.top\")"
   ]
  },
  {
   "cell_type": "markdown",
   "id": "aec5d4db-64f7-4540-a695-02953ce38ed9",
   "metadata": {},
   "source": [
    "## Creating an EMLE calculator\n",
    "\n",
    "Next we will create an `emle-engine` calculator to perform the QM (or ML) calculation for the dipeptide along with the ML electrostatic embedding. Since this is a small molecule it isn't beneficial to perform the calculation on a GPU, so we will use the CPU instead."
   ]
  },
  {
   "cell_type": "code",
   "execution_count": null,
   "id": "1e7a8d25-eae9-434c-9293-cf6058aa5690",
   "metadata": {},
   "outputs": [],
   "source": [
    "from emle.calculator import EMLECalculator\n",
    "calculator = EMLECalculator(device=\"cpu\")"
   ]
  },
  {
   "cell_type": "markdown",
   "id": "11d55aa7-c355-4f0a-a4bf-ea53cdeaa7a6",
   "metadata": {},
   "source": [
    "By default, `emle-engine` will use [TorchANI](https://aiqm.github.io/torchani/) as the backend for in vacuo calculation of energies and gradients using the ANI-2x model. However, it is possible to use a wide variety of other backends, including your own as long as it supports the standand [Atomic Simulation Environment (ASE) calculator interface](https://wiki.fysik.dtu.dk/ase/). For details, see the [backends](https://github.com/chemle/emle-engine#backends) section of the emle-engine documentation. At present, the default embedding model provided with emle-engine supports only the elements H, C, N, O, and S. We plan on adding support for other elements in the near future.\n",
    "\n",
    "## Creating a QM engine\n",
    "\n",
    "We now need to set up the molecular system for the QM/MM simulation and create an engine to perform the calculation:"
   ]
  },
  {
   "cell_type": "code",
   "execution_count": null,
   "id": "7ef98e4b-2458-4e7a-8404-32141f7654a2",
   "metadata": {},
   "outputs": [],
   "source": [
    "qm_mols, engine = sr.qm.emle(mols, mols[0], calculator, \"7.5A\", 20)"
   ]
  },
  {
   "cell_type": "markdown",
   "id": "b4dd507a-20b5-41be-98f8-d0cf57f0dfe0",
   "metadata": {},
   "source": [
    "Here the first argument is the molecules that we are simulating, the second selection coresponding to the QM region (here this is the first molecule), and the third is calculator that was created above. The fourth and fifth arguments are optional, and specify the QM cutoff distance and the neigbour list update frequency respectively. (Shown are the default values.) The function returns a modified version of the molecules containing a \"merged\" dipeptide that can be interpolated between MM and QM levels of theory, along with an engine. The engine registers a Python callback that uses `emle-engine` to perform the QM calculation.\n",
    "\n",
    "The selection syntax for QM atoms is extremely flexible. Any valid search string, atom index, list of atom indicies, or molecule view/container that can be used. Support for modelling partial molecules at the QM level is provided via the link atom approach, via the charge shifting method. For details of this implementation, see, e.g., the NAMD user guide [here](https://www.ks.uiuc.edu/Research/qmmm/). While we support multiple QM fragments, we do not currently support multiple independent QM regions. We plan on adding support for this in the near future.\n",
    "\n",
    "## Running a QM/MM simulation\n",
    "\n",
    "Next we need to create a dynamics object to perform the simulation. For QM/MM simulations it is recommended to use a 1 femtosecond timestep and no constraints. In this example we will use the `lambda_interpolate` keyword to interpolate the dipeptide potential between pure MM (λ=0) and QM (λ=1) over the course of the simulation, which can be used for end-state correction of binding free energy calculations."
   ]
  },
  {
   "cell_type": "code",
   "execution_count": null,
   "id": "d25b14ba-c0da-4e7f-868b-b86ecf791bfc",
   "metadata": {},
   "outputs": [],
   "source": [
    "d = qm_mols.dynamics(\n",
    "    timestep=\"1fs\",\n",
    "    constraint=\"none\",\n",
    "    qm_engine=engine,\n",
    "    lambda_interpolate=[0, 1],\n",
    "    platform=\"cpu\",\n",
    ")"
   ]
  },
  {
   "cell_type": "markdown",
   "id": "4d97d2f4-c686-4e20-99c6-d76b9b6c41f9",
   "metadata": {},
   "source": [
    "We can now run the simulation. The options below specify the run time, the frequency at which trajectory frames are saved, and the frequency at which energies are recorded. The energy_frequency also specifies the frequency at which the λ value is updated."
   ]
  },
  {
   "cell_type": "code",
   "execution_count": null,
   "id": "29224f7c-e3c4-4131-a406-17af3af980d3",
   "metadata": {},
   "outputs": [],
   "source": [
    "import os\n",
    "os.environ[\"OMP_NUM_THREADS\"] = \"1\"\n",
    "d.run(\"0.1ps\", frame_frequency=\"0.01ps\", energy_frequency=\"0.01ps\")"
   ]
  },
  {
   "cell_type": "markdown",
   "id": "1101ac69-5701-473e-971f-bb8d2cba0923",
   "metadata": {},
   "source": [
    "<div class=\"alert alert-block alert-info\">\n",
    "⚠️ Updating λ requires the updating of force field parameters in the OpenMM context. For large systems, this can be quite slow so it isn't recommended to set the energy_frequency to a value that is too small. We have a custom <a href=https://github.com/chryswoods/openmm\">fork</a> of OpenMM that provides a significant speedup for this operation by only updating a subset of the parameters. Installation instructions can be provided on request.\n",
    "</div>\n",
    "\n",
    "<div class=\"alert alert-block alert-info\">\n",
    "⚠️ If you don't require a trajectory file, then better performance can be achieved leaving the frame_frequency keyword argument unset.\n",
    "</div>\n",
    "\n",
    "<div class=\"alert alert-block alert-info\">\n",
    "⚠️ Currently requires the use of <a href=\"https://lab-cosmo.github.io/librascal/#/\">librascal</a> for the calculation of SOAP (Smooth Overlap of Atomic Positions) descriptors. This is a serial code, so you may see better performance by restricting the number of OpenMP threads to 1, e.g. by setting the OMP_NUM_THREADS environment variable.\n",
    "</div>"
   ]
  },
  {
   "cell_type": "markdown",
   "id": "47c807f2-6f9b-4b0d-88c2-3ff11e458c10",
   "metadata": {},
   "source": [
    "Once the simulation has finished we can get back the trajectory of energy values. This can be obtained as a [pandas](https://pandas.pydata.org/) `DataFrame`, allowing for easy plotting and analysis. The table below shows the instantaneous kinetic and potential energies as a function of λ, along with the accumulated non-equilibrium work. (Times are in picoseconds and energies are in kcal/mol.)"
   ]
  },
  {
   "cell_type": "code",
   "execution_count": null,
   "id": "2f0b7725-f272-439f-8f72-ae6fe954d2e4",
   "metadata": {},
   "outputs": [],
   "source": [
    "d.energy_trajectory(to_pandas=True)"
   ]
  },
  {
   "cell_type": "markdown",
   "id": "ae5d0547-e6f5-424c-ba56-193b6ad34bd7",
   "metadata": {},
   "source": [
    "<div class=\"alert alert-block alert-info\">\n",
    "⚠️ In the table above, the time doesn't start from zero because the example molecular system was loaded from an existing trajectory restart file.\n",
    "</div>\n",
    "\n",
    "<div class=\"alert alert-block alert-info\">\n",
    "⚠️ Unlike the sander interface of emle-engine, the interpolated potential energy is non-linear with respect to λ, i.e. it is not precisely a linear combination of MM and QM energies. This is because the sire interface performs a *perturbation* of the system parameters from MM to QM as λ is changed, e.g. scaling down the force constants for bonded terms in the QM region and scaling down the charges. Perturbing charges linearly results in an energy change between charges that is quadratic in λ.\n",
    "</div>"
   ]
  },
  {
   "cell_type": "markdown",
   "id": "ccfa5f0c-5f41-4353-88c4-b4784ccba1f3",
   "metadata": {},
   "source": [
    "## Interfacing with OpenMM-ML\n",
    "\n",
    "In the example above we used a sire dynamics object d to run the simulation. This is wrapper around a standard `OpenMM` context object, providing a simple convenience functions to make it easier to run and analyse simulations. (It is easy to extract the system and forces from the context in order to create a customised simulation of your own.) However, if you are already familiar with OpenMM, then it is possible to use emle-engine with OpenMM directly. This allows for fully customised simulations, or the use of [OpenMM-ML](https://github.com/openmm/openmm-ml) as the backend for calculation of the intramolecular force for the QM region.\n",
    "\n",
    "To use `OpenMM-ML` as the backend for the QM calculation, you will first need to install the package:\n",
    "\n",
    "```bash\n",
    "$ conda install -c conda-forge openmm-ml\n",
    "```\n",
    "\n",
    "Next, you will need to create an `MLPotential` for desired backend. Here we will use ANI-2x, as was used for the EMLECalculator above. The"
   ]
  },
  {
   "cell_type": "code",
   "execution_count": null,
   "id": "4a01fe20-3f61-4699-8fa7-03345b7b5644",
   "metadata": {},
   "outputs": [],
   "source": [
    "import openmm\n",
    "from openmmml import MLPotential\n",
    "potential = MLPotential(\"ani2x\")"
   ]
  },
  {
   "cell_type": "markdown",
   "id": "ed93d257-fceb-4a42-800b-d0a96512e504",
   "metadata": {},
   "source": [
    "Since we are now using the `MLPotential` for the QM calculation, we need to create a new `EMLECalculator` object with no backend, i.e. one that only computes the electrostatic embedding:"
   ]
  },
  {
   "cell_type": "code",
   "execution_count": null,
   "id": "e0196581-0bc6-4eb2-9cff-a37674eb504f",
   "metadata": {},
   "outputs": [],
   "source": [
    "calculator = EMLECalculator(backend=None, device=\"cpu\")"
   ]
  },
  {
   "cell_type": "markdown",
   "id": "44b6caff-d6af-46b2-bb1b-eac0afb5283f",
   "metadata": {},
   "source": [
    "Next we create a new engine bound to the calculator:"
   ]
  },
  {
   "cell_type": "code",
   "execution_count": null,
   "id": "a01fa8a3-85d1-4747-afc8-a072b02f1384",
   "metadata": {},
   "outputs": [],
   "source": [
    "qm_mols, engine = sr.qm.emle(mols, mols[0], calculator)"
   ]
  },
  {
   "cell_type": "markdown",
   "id": "c57f3983-6a2c-4094-9bb7-b8c62d7e4553",
   "metadata": {},
   "source": [
    "Rather than using this engine with a `sire` dynamics object, we can instead extract the underlying `OpenMM` force object and add it to an existing `OpenMM` system. The forces can be extracted from the engine as follows:"
   ]
  },
  {
   "cell_type": "code",
   "execution_count": null,
   "id": "5d7bb677-c0be-4a67-b852-1e77682fa179",
   "metadata": {},
   "outputs": [],
   "source": [
    "emle_force, interpolation_force = engine.get_forces()"
   ]
  },
  {
   "cell_type": "markdown",
   "id": "ced9f87a-7f67-4e61-8537-4af00bbbf989",
   "metadata": {},
   "source": [
    "The `emle_force` object is the `OpenMM` force object that calculates the electrostatic embedding interaction. The `interpolation_force` is a null `CustomBondForce` object that contains a `lambda_emle` global parameter than can be used to scale the electrostatic embedding interaction. (By default, this is set to 1, but can be set to any value between 0 and 1.)\n",
    "\n",
    "<div class=\"alert alert-block alert-info\">\n",
    "⚠️ The interpolation_force has no energy contribution. It is only required as there is currently no way to add global parameters to the EMLEForce.\n",
    "</div>\n",
    "\n",
    "Since we want to use electrostatic embedding, we will also need to zero the charges on the atoms within the QM region before creating an `OpenMM` system. This can be done by passing the molecules through the ``sr.qm.zero_charge`` function along with the selection for the QM region:"
   ]
  },
  {
   "cell_type": "code",
   "execution_count": null,
   "id": "3c4429bd-d9a2-4a46-af2c-d33921e47f64",
   "metadata": {},
   "outputs": [],
   "source": [
    "qm_mols = sr.qm.zero_charge(qm_mols, qm_mols[0])"
   ]
  },
  {
   "cell_type": "markdown",
   "id": "448cb006-5ea5-46ae-9f19-f6060ae520e4",
   "metadata": {},
   "source": [
    "We now write the modified system to an AMBER format topology and coordinate file so that we can load them with `OpenMM`:"
   ]
  },
  {
   "cell_type": "code",
   "execution_count": null,
   "id": "e9c636fe-92f2-4546-98e7-49c6a6f91ccb",
   "metadata": {},
   "outputs": [],
   "source": [
    "sr.save(qm_mols, \"ala_qm\", [\"prm7\", \"rst7\"])"
   ]
  },
  {
   "cell_type": "markdown",
   "id": "a18835fd-0eca-4424-910e-274dffbeda08",
   "metadata": {},
   "source": [
    "We can now read them back in with OpenMM:"
   ]
  },
  {
   "cell_type": "code",
   "execution_count": null,
   "id": "e933ff6d-2d81-4d6a-af16-8a61e3cf0ea3",
   "metadata": {},
   "outputs": [],
   "source": [
    "prmtop = openmm.app.AmberPrmtopFile(\"ala_qm.prm7\")\n",
    "inpcrd = openmm.app.AmberInpcrdFile(\"ala_qm.rst7\")"
   ]
  },
  {
   "cell_type": "markdown",
   "id": "827c4965-e53a-427c-b855-294d4d4a1761",
   "metadata": {},
   "source": [
    "Next we use the prmtop to create the MM system:"
   ]
  },
  {
   "cell_type": "code",
   "execution_count": null,
   "id": "38ec7d50-44a3-46ea-83be-031230b568c1",
   "metadata": {},
   "outputs": [],
   "source": [
    "mm_system = prmtop.createSystem(\n",
    "    nonbondedMethod=openmm.app.PME,\n",
    "    nonbondedCutoff=7.5 * openmm.unit.angstrom,\n",
    "    constraints=openmm.app.HBonds\n",
    ")"
   ]
  },
  {
   "cell_type": "markdown",
   "id": "4453c713-8b9d-4289-b420-ab01c0c20869",
   "metadata": {},
   "source": [
    "In oder to create the ML system, we first define the ML region. This is a list of atom indices that are to be treated with the ML model."
   ]
  },
  {
   "cell_type": "code",
   "execution_count": null,
   "id": "7921e1a5-76ce-4a11-abf0-99919c8ad5bf",
   "metadata": {},
   "outputs": [],
   "source": [
    "ml_atoms = list(range(qm_mols[0].num_atoms()))"
   ]
  },
  {
   "cell_type": "markdown",
   "id": "0426b8e5-0c51-46f5-861e-71501b222508",
   "metadata": {},
   "source": [
    "We can now create the ML system:"
   ]
  },
  {
   "cell_type": "code",
   "execution_count": null,
   "id": "952cb2fe-ca9e-46d8-a0b9-b6646449ccfd",
   "metadata": {},
   "outputs": [],
   "source": [
    "ml_system = potential.createMixedSystem(prmtop.topology, mm_system, ml_atoms, interpolate=True)"
   ]
  },
  {
   "cell_type": "markdown",
   "id": "4396f10b-0d29-452d-bb2f-4bb494e95619",
   "metadata": {},
   "source": [
    "By setting `interpolate=True` we are telling the `MLPotential` to create a mixed system that can be interpolated between MM and ML levels of theory using the `lambda_interpolate` global parameter. (By default this is set to 1.)\n",
    "\n",
    "<div class=\"alert alert-block alert-info\">\n",
    "⚠️ If you choose not to add the emle interpolation force to the system, then the EMLEForce will also use the lambda_interpolate global parameter. This allows for the electrostatic embedding to be alongside or independent of the ML model.\n",
    "</div>"
   ]
  },
  {
   "cell_type": "markdown",
   "id": "e1d45ac2-f34f-48e1-884a-243b63ddf9af",
   "metadata": {},
   "source": [
    "We can now add the `emle` forces to the system:"
   ]
  },
  {
   "cell_type": "code",
   "execution_count": null,
   "id": "63ab7538-9267-43ae-8ae7-1317438d41c9",
   "metadata": {},
   "outputs": [],
   "source": [
    "ml_system.addForce(emle_force)\n",
    "ml_system.addForce(interpolation_force)"
   ]
  },
  {
   "cell_type": "markdown",
   "id": "11cda2ef-e907-4e8f-8f79-1ab158f6188d",
   "metadata": {},
   "source": [
    "In order to run a simulation we need to create an integrator and context. First we create the integrator:"
   ]
  },
  {
   "cell_type": "code",
   "execution_count": null,
   "id": "ed684bf8-c8e3-40d7-88d1-7231217de606",
   "metadata": {},
   "outputs": [],
   "source": [
    "integrator = openmm.LangevinMiddleIntegrator(\n",
    "    300 * openmm.unit.kelvin,\n",
    "    1.0 / openmm.unit.picosecond,\n",
    "    0.002 * openmm.unit.picosecond\n",
    ")"
   ]
  },
  {
   "cell_type": "markdown",
   "id": "fbad1f00-b2cc-42b4-93ee-43b87bd7053b",
   "metadata": {},
   "source": [
    "And finally the context:"
   ]
  },
  {
   "cell_type": "code",
   "execution_count": null,
   "id": "266bb2bd-0797-4f7d-bc27-35524dd85513",
   "metadata": {},
   "outputs": [],
   "source": [
    "context = openmm.Context(ml_system, integrator)\n",
    "context.setPositions(inpcrd.positions)"
   ]
  },
  {
   "cell_type": "markdown",
   "id": "7c2ecc57-61a2-409d-a434-b880ccf37262",
   "metadata": {},
   "source": [
    "Let's check the global parameters:"
   ]
  },
  {
   "cell_type": "code",
   "execution_count": null,
   "id": "539a8f46-1205-4c96-92e4-f97d346d70e1",
   "metadata": {},
   "outputs": [],
   "source": [
    "for param in context.getParameters():\n",
    "    print(param, context.getParameter(param))"
   ]
  }
 ],
 "metadata": {
  "kernelspec": {
   "display_name": "Python 3 (ipykernel)",
   "language": "python",
   "name": "python3"
  },
  "language_info": {
   "codemirror_mode": {
    "name": "ipython",
    "version": 3
   },
   "file_extension": ".py",
   "mimetype": "text/x-python",
   "name": "python",
   "nbconvert_exporter": "python",
   "pygments_lexer": "ipython3",
   "version": "3.10.13"
  }
 },
 "nbformat": 4,
 "nbformat_minor": 5
}
